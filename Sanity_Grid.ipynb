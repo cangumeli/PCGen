{
 "cells": [
  {
   "cell_type": "code",
   "execution_count": 1,
   "metadata": {},
   "outputs": [
    {
     "data": {
      "text/plain": [
       "[torch.Size([3, 224, 224]), torch.Size([3, 16, 64])]"
      ]
     },
     "execution_count": 1,
     "metadata": {},
     "output_type": "execute_result"
    }
   ],
   "source": [
    "from data import ModelNet40\n",
    "dset = ModelNet40(grid=True)\n",
    "[el.shape for el in dset[0]]"
   ]
  },
  {
   "cell_type": "code",
   "execution_count": 2,
   "metadata": {},
   "outputs": [],
   "source": [
    "import torch\n",
    "imgs = torch.stack([dset[i][0] for i in range(8)])\n",
    "points = torch.stack([dset[i][1] for i in range(8)])"
   ]
  },
  {
   "cell_type": "code",
   "execution_count": null,
   "metadata": {},
   "outputs": [],
   "source": [
    "imgs.shape, points.shape"
   ]
  },
  {
   "cell_type": "code",
   "execution_count": null,
   "metadata": {},
   "outputs": [],
   "source": [
    "from model import full_conv_default\n",
    "net = full_conv_default()\n",
    "net"
   ]
  },
  {
   "cell_type": "code",
   "execution_count": null,
   "metadata": {},
   "outputs": [],
   "source": [
    "%time [y.shape for y in net.eval()(imgs[0:1])]"
   ]
  },
  {
   "cell_type": "code",
   "execution_count": 3,
   "metadata": {},
   "outputs": [
    {
     "name": "stdout",
     "output_type": "stream",
     "text": [
      "tensor(0.3797, grad_fn=<MeanBackward0>) tensor(0.5250, grad_fn=<AddBackward0>)\n",
      "tensor(0.1187, grad_fn=<MeanBackward0>) tensor(0.3487, grad_fn=<AddBackward0>)\n",
      "tensor(0.0872, grad_fn=<MeanBackward0>) tensor(0.2820, grad_fn=<AddBackward0>)\n",
      "tensor(0.0826, grad_fn=<MeanBackward0>) tensor(0.2498, grad_fn=<AddBackward0>)\n",
      "tensor(0.0747, grad_fn=<MeanBackward0>) tensor(0.2233, grad_fn=<AddBackward0>)\n",
      "tensor(0.0712, grad_fn=<MeanBackward0>) tensor(0.2197, grad_fn=<AddBackward0>)\n",
      "tensor(0.0684, grad_fn=<MeanBackward0>) tensor(0.2126, grad_fn=<AddBackward0>)\n",
      "tensor(0.0667, grad_fn=<MeanBackward0>) tensor(0.2021, grad_fn=<AddBackward0>)\n",
      "tensor(0.0639, grad_fn=<MeanBackward0>) tensor(0.1890, grad_fn=<AddBackward0>)\n",
      "tensor(0.0634, grad_fn=<MeanBackward0>) tensor(0.1827, grad_fn=<AddBackward0>)\n",
      "tensor(0.0614, grad_fn=<MeanBackward0>) tensor(0.1702, grad_fn=<AddBackward0>)\n",
      "tensor(0.0605, grad_fn=<MeanBackward0>) tensor(0.1642, grad_fn=<AddBackward0>)\n",
      "tensor(0.0582, grad_fn=<MeanBackward0>) tensor(0.1541, grad_fn=<AddBackward0>)\n",
      "tensor(0.0564, grad_fn=<MeanBackward0>) tensor(0.1467, grad_fn=<AddBackward0>)\n",
      "tensor(0.0549, grad_fn=<MeanBackward0>) tensor(0.1424, grad_fn=<AddBackward0>)\n",
      "tensor(0.0542, grad_fn=<MeanBackward0>) tensor(0.1365, grad_fn=<AddBackward0>)\n",
      "tensor(0.0529, grad_fn=<MeanBackward0>) tensor(0.1303, grad_fn=<AddBackward0>)\n",
      "tensor(0.0509, grad_fn=<MeanBackward0>) tensor(0.1232, grad_fn=<AddBackward0>)\n",
      "tensor(0.0494, grad_fn=<MeanBackward0>) tensor(0.1211, grad_fn=<AddBackward0>)\n",
      "tensor(0.0480, grad_fn=<MeanBackward0>) tensor(0.1148, grad_fn=<AddBackward0>)\n",
      "tensor(0.0472, grad_fn=<MeanBackward0>) tensor(0.1126, grad_fn=<AddBackward0>)\n",
      "tensor(0.0454, grad_fn=<MeanBackward0>) tensor(0.1054, grad_fn=<AddBackward0>)\n",
      "tensor(0.0456, grad_fn=<MeanBackward0>) tensor(0.1036, grad_fn=<AddBackward0>)\n",
      "tensor(0.0432, grad_fn=<MeanBackward0>) tensor(0.1010, grad_fn=<AddBackward0>)\n",
      "tensor(0.0423, grad_fn=<MeanBackward0>) tensor(0.0972, grad_fn=<AddBackward0>)\n",
      "tensor(0.0412, grad_fn=<MeanBackward0>) tensor(0.0947, grad_fn=<AddBackward0>)\n",
      "tensor(0.0401, grad_fn=<MeanBackward0>) tensor(0.0915, grad_fn=<AddBackward0>)\n",
      "tensor(0.0391, grad_fn=<MeanBackward0>) tensor(0.0904, grad_fn=<AddBackward0>)\n",
      "tensor(0.0383, grad_fn=<MeanBackward0>) tensor(0.0882, grad_fn=<AddBackward0>)\n",
      "tensor(0.0370, grad_fn=<MeanBackward0>) tensor(0.0849, grad_fn=<AddBackward0>)\n",
      "tensor(0.0363, grad_fn=<MeanBackward0>) tensor(0.0825, grad_fn=<AddBackward0>)\n",
      "tensor(0.0354, grad_fn=<MeanBackward0>) tensor(0.0809, grad_fn=<AddBackward0>)\n",
      "tensor(0.0347, grad_fn=<MeanBackward0>) tensor(0.0794, grad_fn=<AddBackward0>)\n",
      "tensor(0.0340, grad_fn=<MeanBackward0>) tensor(0.0772, grad_fn=<AddBackward0>)\n",
      "tensor(0.0334, grad_fn=<MeanBackward0>) tensor(0.0759, grad_fn=<AddBackward0>)\n",
      "tensor(0.0326, grad_fn=<MeanBackward0>) tensor(0.0734, grad_fn=<AddBackward0>)\n",
      "tensor(0.0318, grad_fn=<MeanBackward0>) tensor(0.0726, grad_fn=<AddBackward0>)\n",
      "tensor(0.0313, grad_fn=<MeanBackward0>) tensor(0.0715, grad_fn=<AddBackward0>)\n",
      "tensor(0.0308, grad_fn=<MeanBackward0>) tensor(0.0707, grad_fn=<AddBackward0>)\n",
      "tensor(0.0308, grad_fn=<MeanBackward0>) tensor(0.0721, grad_fn=<AddBackward0>)\n",
      "tensor(0.0307, grad_fn=<MeanBackward0>) tensor(0.0727, grad_fn=<AddBackward0>)\n",
      "tensor(0.0335, grad_fn=<MeanBackward0>) tensor(0.0827, grad_fn=<AddBackward0>)\n",
      "tensor(0.0332, grad_fn=<MeanBackward0>) tensor(0.0810, grad_fn=<AddBackward0>)\n",
      "tensor(0.0302, grad_fn=<MeanBackward0>) tensor(0.0746, grad_fn=<AddBackward0>)\n",
      "tensor(0.0286, grad_fn=<MeanBackward0>) tensor(0.0741, grad_fn=<AddBackward0>)\n",
      "tensor(0.0278, grad_fn=<MeanBackward0>) tensor(0.0720, grad_fn=<AddBackward0>)\n",
      "tensor(0.0274, grad_fn=<MeanBackward0>) tensor(0.0694, grad_fn=<AddBackward0>)\n",
      "tensor(0.0271, grad_fn=<MeanBackward0>) tensor(0.0694, grad_fn=<AddBackward0>)\n",
      "tensor(0.0265, grad_fn=<MeanBackward0>) tensor(0.0671, grad_fn=<AddBackward0>)\n",
      "tensor(0.0260, grad_fn=<MeanBackward0>) tensor(0.0646, grad_fn=<AddBackward0>)\n",
      "tensor(0.0258, grad_fn=<MeanBackward0>) tensor(0.0647, grad_fn=<AddBackward0>)\n",
      "tensor(0.0250, grad_fn=<MeanBackward0>) tensor(0.0623, grad_fn=<AddBackward0>)\n",
      "tensor(0.0246, grad_fn=<MeanBackward0>) tensor(0.0619, grad_fn=<AddBackward0>)\n",
      "tensor(0.0241, grad_fn=<MeanBackward0>) tensor(0.0608, grad_fn=<AddBackward0>)\n",
      "tensor(0.0239, grad_fn=<MeanBackward0>) tensor(0.0598, grad_fn=<AddBackward0>)\n",
      "tensor(0.0235, grad_fn=<MeanBackward0>) tensor(0.0590, grad_fn=<AddBackward0>)\n",
      "tensor(0.0230, grad_fn=<MeanBackward0>) tensor(0.0577, grad_fn=<AddBackward0>)\n",
      "tensor(0.0227, grad_fn=<MeanBackward0>) tensor(0.0576, grad_fn=<AddBackward0>)\n",
      "tensor(0.0225, grad_fn=<MeanBackward0>) tensor(0.0569, grad_fn=<AddBackward0>)\n",
      "tensor(0.0221, grad_fn=<MeanBackward0>) tensor(0.0558, grad_fn=<AddBackward0>)\n",
      "tensor(0.0218, grad_fn=<MeanBackward0>) tensor(0.0552, grad_fn=<AddBackward0>)\n",
      "tensor(0.0215, grad_fn=<MeanBackward0>) tensor(0.0541, grad_fn=<AddBackward0>)\n",
      "tensor(0.0212, grad_fn=<MeanBackward0>) tensor(0.0539, grad_fn=<AddBackward0>)\n",
      "tensor(0.0210, grad_fn=<MeanBackward0>) tensor(0.0528, grad_fn=<AddBackward0>)\n",
      "tensor(0.0208, grad_fn=<MeanBackward0>) tensor(0.0528, grad_fn=<AddBackward0>)\n",
      "tensor(0.0206, grad_fn=<MeanBackward0>) tensor(0.0521, grad_fn=<AddBackward0>)\n",
      "tensor(0.0204, grad_fn=<MeanBackward0>) tensor(0.0518, grad_fn=<AddBackward0>)\n",
      "tensor(0.0203, grad_fn=<MeanBackward0>) tensor(0.0515, grad_fn=<AddBackward0>)\n",
      "tensor(0.0203, grad_fn=<MeanBackward0>) tensor(0.0526, grad_fn=<AddBackward0>)\n",
      "tensor(0.0207, grad_fn=<MeanBackward0>) tensor(0.0556, grad_fn=<AddBackward0>)\n",
      "tensor(0.0199, grad_fn=<MeanBackward0>) tensor(0.0515, grad_fn=<AddBackward0>)\n",
      "tensor(0.0197, grad_fn=<MeanBackward0>) tensor(0.0505, grad_fn=<AddBackward0>)\n",
      "tensor(0.0200, grad_fn=<MeanBackward0>) tensor(0.0537, grad_fn=<AddBackward0>)\n",
      "tensor(0.0194, grad_fn=<MeanBackward0>) tensor(0.0515, grad_fn=<AddBackward0>)\n",
      "tensor(0.0195, grad_fn=<MeanBackward0>) tensor(0.0520, grad_fn=<AddBackward0>)\n",
      "tensor(0.0202, grad_fn=<MeanBackward0>) tensor(0.0567, grad_fn=<AddBackward0>)\n",
      "tensor(0.0194, grad_fn=<MeanBackward0>) tensor(0.0550, grad_fn=<AddBackward0>)\n",
      "tensor(0.0194, grad_fn=<MeanBackward0>) tensor(0.0531, grad_fn=<AddBackward0>)\n",
      "tensor(0.0195, grad_fn=<MeanBackward0>) tensor(0.0525, grad_fn=<AddBackward0>)\n",
      "tensor(0.0189, grad_fn=<MeanBackward0>) tensor(0.0522, grad_fn=<AddBackward0>)\n",
      "tensor(0.0187, grad_fn=<MeanBackward0>) tensor(0.0508, grad_fn=<AddBackward0>)\n",
      "tensor(0.0185, grad_fn=<MeanBackward0>) tensor(0.0500, grad_fn=<AddBackward0>)\n",
      "tensor(0.0184, grad_fn=<MeanBackward0>) tensor(0.0497, grad_fn=<AddBackward0>)\n",
      "tensor(0.0184, grad_fn=<MeanBackward0>) tensor(0.0494, grad_fn=<AddBackward0>)\n",
      "tensor(0.0177, grad_fn=<MeanBackward0>) tensor(0.0477, grad_fn=<AddBackward0>)\n",
      "tensor(0.0182, grad_fn=<MeanBackward0>) tensor(0.0487, grad_fn=<AddBackward0>)\n",
      "tensor(0.0175, grad_fn=<MeanBackward0>) tensor(0.0463, grad_fn=<AddBackward0>)\n",
      "tensor(0.0179, grad_fn=<MeanBackward0>) tensor(0.0472, grad_fn=<AddBackward0>)\n",
      "tensor(0.0171, grad_fn=<MeanBackward0>) tensor(0.0454, grad_fn=<AddBackward0>)\n",
      "tensor(0.0173, grad_fn=<MeanBackward0>) tensor(0.0473, grad_fn=<AddBackward0>)\n",
      "tensor(0.0169, grad_fn=<MeanBackward0>) tensor(0.0459, grad_fn=<AddBackward0>)\n",
      "tensor(0.0170, grad_fn=<MeanBackward0>) tensor(0.0453, grad_fn=<AddBackward0>)\n",
      "tensor(0.0167, grad_fn=<MeanBackward0>) tensor(0.0445, grad_fn=<AddBackward0>)\n",
      "tensor(0.0165, grad_fn=<MeanBackward0>) tensor(0.0445, grad_fn=<AddBackward0>)\n",
      "tensor(0.0165, grad_fn=<MeanBackward0>) tensor(0.0440, grad_fn=<AddBackward0>)\n",
      "tensor(0.0162, grad_fn=<MeanBackward0>) tensor(0.0428, grad_fn=<AddBackward0>)\n",
      "tensor(0.0163, grad_fn=<MeanBackward0>) tensor(0.0429, grad_fn=<AddBackward0>)\n",
      "tensor(0.0159, grad_fn=<MeanBackward0>) tensor(0.0414, grad_fn=<AddBackward0>)\n",
      "tensor(0.0158, grad_fn=<MeanBackward0>) tensor(0.0418, grad_fn=<AddBackward0>)\n",
      "tensor(0.0157, grad_fn=<MeanBackward0>) tensor(0.0415, grad_fn=<AddBackward0>)\n"
     ]
    }
   ],
   "source": [
    "from model import full_conv_default\n",
    "from torch.optim import Adam\n",
    "from model.util import grid_to_points\n",
    "from model.loss import grid_chamfer_distance, depth_loss, chamfer_distance\n",
    "epochs = 100\n",
    "net = full_conv_default()\n",
    "net = net.train()\n",
    "opt = Adam(net.parameters())\n",
    "\n",
    "for i in range(epochs):\n",
    "    opt.zero_grad()\n",
    "    depth, grid = net(imgs)\n",
    "    dloss = depth_loss(depth, points)\n",
    "    # gloss = chamfer_distance(grid_to_points(grid), grid_to_points(points), sqrt=True)\n",
    "    gloss = grid_chamfer_distance(grid, points, (1, 4))\n",
    "    (dloss + gloss).backward()\n",
    "    opt.step()\n",
    "    print(dloss, gloss)    \n",
    "    #with torch.no_grad():\n",
    "    #    print('Chamfer distance', chamfer_distance(grid_to_points(grid), grid_to_points(points), sqrt=True), '\\n')\n",
    "    "
   ]
  },
  {
   "cell_type": "code",
   "execution_count": 7,
   "metadata": {},
   "outputs": [],
   "source": [
    "torch.save({'model': net.state_dict()}, 'overfitted')\n",
    "#points = grid_to_points(points[0:1])"
   ]
  },
  {
   "cell_type": "code",
   "execution_count": 9,
   "metadata": {},
   "outputs": [],
   "source": [
    "from data.visualize import visualize_points\n",
    "visualize_points(points[0].view(3, -1).t().contiguous())"
   ]
  },
  {
   "cell_type": "code",
   "execution_count": 12,
   "metadata": {},
   "outputs": [],
   "source": [
    "net = net.eval()\n",
    "pred = net(points[0].unsqueeze(0))[0].view(3, -1).t().contiguous().detach()\n",
    "visualize_points(pred)"
   ]
  },
  {
   "cell_type": "code",
   "execution_count": null,
   "metadata": {},
   "outputs": [],
   "source": []
  }
 ],
 "metadata": {
  "kernelspec": {
   "display_name": "Python 3",
   "language": "python",
   "name": "python3"
  },
  "language_info": {
   "codemirror_mode": {
    "name": "ipython",
    "version": 3
   },
   "file_extension": ".py",
   "mimetype": "text/x-python",
   "name": "python",
   "nbconvert_exporter": "python",
   "pygments_lexer": "ipython3",
   "version": "3.7.1"
  }
 },
 "nbformat": 4,
 "nbformat_minor": 2
}
