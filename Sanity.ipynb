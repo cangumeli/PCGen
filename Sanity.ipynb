{
 "cells": [
  {
   "cell_type": "code",
   "execution_count": 1,
   "metadata": {},
   "outputs": [],
   "source": [
    "from model import PointGen\n",
    "import torch\n",
    "# torch.manual_seed(20)"
   ]
  },
  {
   "cell_type": "markdown",
   "metadata": {},
   "source": [
    "<h3>Dimensionality check</h3>\n",
    "<p>\n",
    "Model should generate a (1, 1024, 3) and contain about 40m parameters. It took around 200ms to process one image in my laptop.\n",
    "</p>"
   ]
  },
  {
   "cell_type": "code",
   "execution_count": 2,
   "metadata": {},
   "outputs": [
    {
     "name": "stdout",
     "output_type": "stream",
     "text": [
      "Number of parameters:  45757651\n",
      "CPU times: user 893 ms, sys: 476 ms, total: 1.37 s\n",
      "Wall time: 201 ms\n",
      "[torch.Size([1, 1024, 3]), torch.Size([1, 1024, 3])]\n"
     ]
    }
   ],
   "source": [
    "model = PointGen()\n",
    "# print(model)\n",
    "print('Number of parameters: ', sum(p.numel() for p in model.parameters()))\n",
    "x = torch.rand(1, 3, 224, 224)\n",
    "model.eval()\n",
    "model(x)  # cold start\n",
    "%time ys = model(x)\n",
    "print([y.size() for y in ys])"
   ]
  },
  {
   "cell_type": "markdown",
   "metadata": {},
   "source": [
    "<h3>Data loader checks</h3>"
   ]
  },
  {
   "cell_type": "code",
   "execution_count": 3,
   "metadata": {},
   "outputs": [],
   "source": [
    "from data import ModelNet40\n",
    "from data.visualize import visualize_points\n",
    "import open3d as o3d\n",
    "\n",
    "data = ModelNet40(points_to_sample=1024)"
   ]
  },
  {
   "cell_type": "code",
   "execution_count": null,
   "metadata": {},
   "outputs": [],
   "source": [
    "d = data[0]\n",
    "visualize_points(d[-1])"
   ]
  },
  {
   "cell_type": "markdown",
   "metadata": {},
   "source": [
    "<h3>Overfitting Experiments</h3>"
   ]
  },
  {
   "cell_type": "markdown",
   "metadata": {},
   "source": [
    "<p>Here, we sample a small set of data and try to overfit.</p>"
   ]
  },
  {
   "cell_type": "code",
   "execution_count": 2,
   "metadata": {},
   "outputs": [],
   "source": [
    "import torch\n",
    "from data import ModelNet40\n",
    "data = ModelNet40(points_to_sample=1024)"
   ]
  },
  {
   "cell_type": "code",
   "execution_count": 13,
   "metadata": {},
   "outputs": [
    {
     "name": "stdout",
     "output_type": "stream",
     "text": [
      "118116\n",
      "[0, 1, 2, 3, 4, 5, 6, 7, 8, 9, 10, 11, 12, 13, 14, 15]\n"
     ]
    }
   ],
   "source": [
    "print(len(data))\n",
    "data_size=8\n",
    "idx = list(range(data_size))# torch.randperm(len(data))[:data_size].tolist()\n",
    "print(idx)"
   ]
  },
  {
   "cell_type": "code",
   "execution_count": 14,
   "metadata": {},
   "outputs": [],
   "source": [
    "small_data = [data[i] for i in idx]\n",
    "coarse_points = torch.stack([d[1] for d in small_data])\n",
    "detailed_points = torch.stack([d[2] for d in small_data])\n",
    "images = torch.stack([d[0] for d in small_data])"
   ]
  },
  {
   "cell_type": "markdown",
   "metadata": {},
   "source": [
    "<h4>Overfitting the coarse predictor</h4>\n",
    "<p>Here, we try to overfit the coarse prediction layer</p>"
   ]
  },
  {
   "cell_type": "code",
   "execution_count": 15,
   "metadata": {},
   "outputs": [
    {
     "name": "stdout",
     "output_type": "stream",
     "text": [
      "torch.Size([16, 3, 224, 224]) torch.Size([16, 256, 3])\n"
     ]
    },
    {
     "data": {
      "text/plain": [
       "'images = (images - images.mean(dim=[0, 2, 3], keepdim=True))     / images.std(dim=[0, 2, 3], keepdim=True).add(1e-5)\\nprint(images.mean(dim=[0,2,3]))\\nprint(images.std(dim=[0,2,3]))'"
      ]
     },
     "execution_count": 15,
     "metadata": {},
     "output_type": "execute_result"
    }
   ],
   "source": [
    "print(images.shape, coarse_points.shape)\n",
    "'''images = (images - images.mean(dim=[0, 2, 3], keepdim=True)) \\\n",
    "    / images.std(dim=[0, 2, 3], keepdim=True).add(1e-5)\n",
    "print(images.mean(dim=[0,2,3]))\n",
    "print(images.std(dim=[0,2,3]))'''\n"
   ]
  },
  {
   "cell_type": "code",
   "execution_count": 16,
   "metadata": {},
   "outputs": [],
   "source": [
    "from model.encoder import Encoder\n",
    "from model.decoder_fold import CoarseDecoder\n",
    "from model import PointGen\n",
    "from model.loss import chamfer_distance, std_loss\n",
    "from torch.optim import Adam, SGD\n",
    "import torch.nn as nn"
   ]
  },
  {
   "cell_type": "code",
   "execution_count": 17,
   "metadata": {},
   "outputs": [
    {
     "name": "stdout",
     "output_type": "stream",
     "text": [
      "Epoch 0\n",
      "Loss Detailed 0.07852254807949066\n",
      "Epoch 1\n",
      "Loss Detailed 0.06780120730400085\n",
      "Epoch 2\n",
      "Loss Detailed 0.05308149755001068\n"
     ]
    },
    {
     "ename": "KeyboardInterrupt",
     "evalue": "",
     "output_type": "error",
     "traceback": [
      "\u001b[0;31m---------------------------------------------------------------------------\u001b[0m",
      "\u001b[0;31mKeyboardInterrupt\u001b[0m                         Traceback (most recent call last)",
      "\u001b[0;32m<ipython-input-17-f5baa368d548>\u001b[0m in \u001b[0;36m<module>\u001b[0;34m\u001b[0m\n\u001b[1;32m     14\u001b[0m         \u001b[0;31m# lossc = chamfer_distance(yc_pred, yc)\u001b[0m\u001b[0;34m\u001b[0m\u001b[0;34m\u001b[0m\u001b[0;34m\u001b[0m\u001b[0m\n\u001b[1;32m     15\u001b[0m         \u001b[0mlossd\u001b[0m \u001b[0;34m=\u001b[0m \u001b[0mchamfer_distance\u001b[0m\u001b[0;34m(\u001b[0m\u001b[0myd_pred\u001b[0m\u001b[0;34m,\u001b[0m \u001b[0myd\u001b[0m\u001b[0;34m)\u001b[0m\u001b[0;34m\u001b[0m\u001b[0;34m\u001b[0m\u001b[0m\n\u001b[0;32m---> 16\u001b[0;31m         \u001b[0mlossd\u001b[0m\u001b[0;34m.\u001b[0m\u001b[0mbackward\u001b[0m\u001b[0;34m(\u001b[0m\u001b[0;34m)\u001b[0m\u001b[0;34m\u001b[0m\u001b[0;34m\u001b[0m\u001b[0m\n\u001b[0m\u001b[1;32m     17\u001b[0m         \u001b[0mopt\u001b[0m\u001b[0;34m.\u001b[0m\u001b[0mstep\u001b[0m\u001b[0;34m(\u001b[0m\u001b[0;34m)\u001b[0m\u001b[0;34m\u001b[0m\u001b[0;34m\u001b[0m\u001b[0m\n\u001b[1;32m     18\u001b[0m         \u001b[0;31m# print('Loss: ', loss)\u001b[0m\u001b[0;34m\u001b[0m\u001b[0;34m\u001b[0m\u001b[0;34m\u001b[0m\u001b[0m\n",
      "\u001b[0;32m~/I2DL_Material/anaconda3/lib/python3.7/site-packages/torch/tensor.py\u001b[0m in \u001b[0;36mbackward\u001b[0;34m(self, gradient, retain_graph, create_graph)\u001b[0m\n\u001b[1;32m    105\u001b[0m                 \u001b[0mproducts\u001b[0m\u001b[0;34m.\u001b[0m \u001b[0mDefaults\u001b[0m \u001b[0mto\u001b[0m\u001b[0;31m \u001b[0m\u001b[0;31m`\u001b[0m\u001b[0;31m`\u001b[0m\u001b[0;32mFalse\u001b[0m\u001b[0;31m`\u001b[0m\u001b[0;31m`\u001b[0m\u001b[0;34m.\u001b[0m\u001b[0;34m\u001b[0m\u001b[0;34m\u001b[0m\u001b[0m\n\u001b[1;32m    106\u001b[0m         \"\"\"\n\u001b[0;32m--> 107\u001b[0;31m         \u001b[0mtorch\u001b[0m\u001b[0;34m.\u001b[0m\u001b[0mautograd\u001b[0m\u001b[0;34m.\u001b[0m\u001b[0mbackward\u001b[0m\u001b[0;34m(\u001b[0m\u001b[0mself\u001b[0m\u001b[0;34m,\u001b[0m \u001b[0mgradient\u001b[0m\u001b[0;34m,\u001b[0m \u001b[0mretain_graph\u001b[0m\u001b[0;34m,\u001b[0m \u001b[0mcreate_graph\u001b[0m\u001b[0;34m)\u001b[0m\u001b[0;34m\u001b[0m\u001b[0;34m\u001b[0m\u001b[0m\n\u001b[0m\u001b[1;32m    108\u001b[0m \u001b[0;34m\u001b[0m\u001b[0m\n\u001b[1;32m    109\u001b[0m     \u001b[0;32mdef\u001b[0m \u001b[0mregister_hook\u001b[0m\u001b[0;34m(\u001b[0m\u001b[0mself\u001b[0m\u001b[0;34m,\u001b[0m \u001b[0mhook\u001b[0m\u001b[0;34m)\u001b[0m\u001b[0;34m:\u001b[0m\u001b[0;34m\u001b[0m\u001b[0;34m\u001b[0m\u001b[0m\n",
      "\u001b[0;32m~/I2DL_Material/anaconda3/lib/python3.7/site-packages/torch/autograd/__init__.py\u001b[0m in \u001b[0;36mbackward\u001b[0;34m(tensors, grad_tensors, retain_graph, create_graph, grad_variables)\u001b[0m\n\u001b[1;32m     91\u001b[0m     Variable._execution_engine.run_backward(\n\u001b[1;32m     92\u001b[0m         \u001b[0mtensors\u001b[0m\u001b[0;34m,\u001b[0m \u001b[0mgrad_tensors\u001b[0m\u001b[0;34m,\u001b[0m \u001b[0mretain_graph\u001b[0m\u001b[0;34m,\u001b[0m \u001b[0mcreate_graph\u001b[0m\u001b[0;34m,\u001b[0m\u001b[0;34m\u001b[0m\u001b[0;34m\u001b[0m\u001b[0m\n\u001b[0;32m---> 93\u001b[0;31m         allow_unreachable=True)  # allow_unreachable flag\n\u001b[0m\u001b[1;32m     94\u001b[0m \u001b[0;34m\u001b[0m\u001b[0m\n\u001b[1;32m     95\u001b[0m \u001b[0;34m\u001b[0m\u001b[0m\n",
      "\u001b[0;31mKeyboardInterrupt\u001b[0m: "
     ]
    }
   ],
   "source": [
    "net = PointGen()\n",
    "#print(net)\n",
    "opt = Adam(net.parameters(), lr=1e-2)\n",
    "batch_size = 8\n",
    "epochs = 50\n",
    "for e in range(epochs):\n",
    "    idx = torch.randperm(data_size).tolist()\n",
    "    for i in range(0, data_size, batch_size):\n",
    "        yc = coarse_points[i:i+batch_size]\n",
    "        yd = detailed_points[i:i+batch_size]\n",
    "        x = images[i:i+batch_size]\n",
    "        opt.zero_grad()\n",
    "        yc_pred, yd_pred = net(x)\n",
    "        # lossc = chamfer_distance(yc_pred, yc)\n",
    "        lossd = chamfer_distance(yd_pred, yd)\n",
    "        lossd.backward()\n",
    "        opt.step()\n",
    "        # print('Loss: ', loss)\n",
    "    with torch.no_grad():\n",
    "        net.eval()\n",
    "        preds = net(images)\n",
    "        print('Epoch', e)\n",
    "        # print('Loss Coarse', chamfer_distance(preds[0], coarse_points).item())\n",
    "        print('Loss Detailed', chamfer_distance(preds[1], detailed_points).item())\n",
    "    net.train()"
   ]
  },
  {
   "cell_type": "code",
   "execution_count": 8,
   "metadata": {},
   "outputs": [
    {
     "name": "stdout",
     "output_type": "stream",
     "text": [
      "0 Distance: 0.0013017186429351568\n",
      "1 Distance: 0.0014305756194517016\n",
      "2 Distance: 0.001511970884166658\n",
      "3 Distance: 0.0018123614136129618\n",
      "4 Distance: 0.0016230328474193811\n",
      "5 Distance: 0.0018113504629582167\n",
      "6 Distance: 0.0017678458243608475\n",
      "7 Distance: 0.001395365223288536\n"
     ]
    }
   ],
   "source": [
    "net.eval()\n",
    "for i in range(data_size):\n",
    "    img = images[i].unsqueeze(0)\n",
    "    pc = detailed_points[i].unsqueeze(0)\n",
    "    pred = net(img)[1]\n",
    "    print('{} Distance: {}'.format(i, chamfer_distance(pred, pc)))"
   ]
  },
  {
   "cell_type": "code",
   "execution_count": null,
   "metadata": {},
   "outputs": [],
   "source": [
    "torch.save(net.state_dict(), 'overfit2')"
   ]
  },
  {
   "cell_type": "code",
   "execution_count": 11,
   "metadata": {},
   "outputs": [
    {
     "name": "stdout",
     "output_type": "stream",
     "text": [
      "torch.Size([1024, 3])\n"
     ]
    }
   ],
   "source": [
    "from data.visualize import visualize_points\n",
    "# visualize_points(data[0][1])\n",
    "net.eval()\n",
    "with torch.no_grad():\n",
    "    pred = net(images[1].unsqueeze(0))[1]\n",
    "pred = pred.detach().contiguous().squeeze()\n",
    "print(pred.shape)\n",
    "visualize_points(pred)\n",
    "visualize_points(detailed_points[1])"
   ]
  },
  {
   "cell_type": "code",
   "execution_count": null,
   "metadata": {},
   "outputs": [],
   "source": [
    "pcd_load = o3d.io.read_point_cloud(\"view0.ply\")\n",
    "pcd_load2 = o3d.io.read_point_cloud(\"view0_pred.ply\")\n",
    "o3d.visualization.draw_geometries([pcd_load])"
   ]
  },
  {
   "cell_type": "code",
   "execution_count": null,
   "metadata": {},
   "outputs": [],
   "source": [
    "\n",
    "o3d.visualization.draw_geometries([pcd_load2])"
   ]
  },
  {
   "cell_type": "code",
   "execution_count": null,
   "metadata": {},
   "outputs": [],
   "source": []
  }
 ],
 "metadata": {
  "kernelspec": {
   "display_name": "Python 3",
   "language": "python",
   "name": "python3"
  },
  "language_info": {
   "codemirror_mode": {
    "name": "ipython",
    "version": 3
   },
   "file_extension": ".py",
   "mimetype": "text/x-python",
   "name": "python",
   "nbconvert_exporter": "python",
   "pygments_lexer": "ipython3",
   "version": "3.7.1"
  }
 },
 "nbformat": 4,
 "nbformat_minor": 2
}
